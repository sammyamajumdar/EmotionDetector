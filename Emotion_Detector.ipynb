{
 "cells": [
  {
   "cell_type": "code",
   "execution_count": 38,
   "metadata": {},
   "outputs": [],
   "source": [
    "import numpy as np\n",
    "from tensorflow import keras\n",
    "from keras import layers\n",
    "from keras.layers import Dense, Activation, Conv2D, MaxPooling2D, Flatten, BatchNormalization, ZeroPadding2D, Input, AveragePooling2D\n",
    "from keras.models import Model\n",
    "from keras.preprocessing import image\n",
    "from keras.utils import layer_utils\n",
    "from keras.utils.data_utils import get_file\n",
    "from keras.applications.imagenet_utils import preprocess_input\n",
    "import pydot\n",
    "from IPython.display import SVG\n",
    "from keras.utils.vis_utils import model_to_dot\n",
    "from keras.utils import plot_model\n",
    "from kt_utils import *\n",
    "import keras.backend as K\n",
    "K.set_image_data_format('channels_last')\n",
    "import matplotlib.pyplot as plt\n",
    "from matplotlib.pyplot import imshow\n",
    "%matplotlib inline"
   ]
  },
  {
   "cell_type": "code",
   "execution_count": 39,
   "metadata": {},
   "outputs": [],
   "source": [
    "import keras.backend as K\n",
    "import math\n",
    "def mean_pred(y_true, y_pred):\n",
    "    return K.mean(y_pred)\n",
    "def load_dataset():\n",
    "    train_dataset = h5py.File('train_happy.h5', \"r\")\n",
    "    train_set_x_orig = np.array(train_dataset[\"train_set_x\"][:]) \n",
    "    train_set_y_orig = np.array(train_dataset[\"train_set_y\"][:]) \n",
    "\n",
    "    test_dataset = h5py.File('test_happy.h5', \"r\")\n",
    "    test_set_x_orig = np.array(test_dataset[\"test_set_x\"][:]) \n",
    "    test_set_y_orig = np.array(test_dataset[\"test_set_y\"][:]) \n",
    "\n",
    "    classes = np.array(test_dataset[\"list_classes\"][:]) # the list of classes\n",
    "    \n",
    "    train_set_y_orig = train_set_y_orig.reshape((1, train_set_y_orig.shape[0]))\n",
    "    test_set_y_orig = test_set_y_orig.reshape((1, test_set_y_orig.shape[0]))\n",
    "    \n",
    "    return train_set_x_orig, train_set_y_orig, test_set_x_orig, test_set_y_orig, classes\n",
    "x_train, y_train, x_test, y_test, classes = load_dataset()"
   ]
  },
  {
   "cell_type": "code",
   "execution_count": 40,
   "metadata": {},
   "outputs": [
    {
     "name": "stdout",
     "output_type": "stream",
     "text": [
      "Number of training examples : 600\n",
      "Number of testing examples : 150\n",
      "shape of training set : (600, 64, 64, 3)\n",
      "shape of training labels : (600, 1)\n",
      "shape of testing set : (150, 64, 64, 3)\n",
      "shape of testing labels : (150, 1)\n"
     ]
    }
   ],
   "source": [
    "X_train = x_train / 255\n",
    "X_test = x_test / 255\n",
    "y_train = y_train.transpose()\n",
    "y_test = y_test.transpose()\n",
    "print(f\"Number of training examples : {X_train.shape[0]}\")\n",
    "print(f\"Number of testing examples : {X_test.shape[0]}\")\n",
    "print(f\"shape of training set : {X_train.shape}\")\n",
    "print(f\"shape of training labels : {y_train.shape}\")\n",
    "print(f\"shape of testing set : {X_test.shape}\")\n",
    "print(f\"shape of testing labels : {y_test.shape}\")"
   ]
  },
  {
   "cell_type": "code",
   "execution_count": 45,
   "metadata": {},
   "outputs": [],
   "source": [
    "def convModel(input_shape):\n",
    "    X_input = Input(input_shape)\n",
    "    \n",
    "    # 0th Layer\n",
    "    X = ZeroPadding2D((3,3))(X_input)\n",
    "    X = Conv2D(32, (7,7), strides = (1,1), name = \"conv0\")(X)\n",
    "    X = BatchNormalization(axis = 3, name = \"bn0\")(X)\n",
    "    X = Activation(\"relu\")(X)\n",
    "    X = MaxPooling2D((2,2), name = \"MaxPool0\")(X)\n",
    "    \n",
    "    # First Layer\n",
    "    X = Conv2D(32, (7,7), strides = (1,1), name = \"conv1\")(X)\n",
    "    X = BatchNormalization(axis = 3, name = \"bn1\")(X)\n",
    "    X = Activation(\"relu\")(X)\n",
    "    X = MaxPooling2D((2,2), name = 'MaxPool1')(X)\n",
    "    \n",
    "    # Second Layer\n",
    "    X = Conv2D(32, (3,3), strides = (1,1), name = \"conv2\")(X)\n",
    "    X = BatchNormalization(axis = 3, name = \"bn2\")(X)\n",
    "    X = Activation(\"relu\")(X)\n",
    "    X = AveragePooling2D((2,2), name = \"averagePool0\")(X)\n",
    "    \n",
    "    # Third Layer\n",
    "    X = Conv2D(32, (3,3), strides = (1,1), name = \"conv3\")(X)\n",
    "    X = BatchNormalization(axis  = 3, name = \"bn3\")(X)\n",
    "    X = Activation(\"relu\")(X)\n",
    "    X = MaxPooling2D((2,2), name = \"maxpool3\")(X)\n",
    "    \n",
    "    # First Connected Layer\n",
    "    X = Dense(1, activation = \"sigmoid\", name = \"fc0\")(X)\n",
    "    \n",
    "    # Second Connected Layer\n",
    "    X = Flatten()(X)\n",
    "    X = Dense(1, activation = \"sigmoid\", name = \"fc1\")(X)\n",
    "    \n",
    "    model = Model(inputs = X_input, outputs = X, name = \"convModel\")\n",
    "    return model"
   ]
  },
  {
   "cell_type": "code",
   "execution_count": 47,
   "metadata": {},
   "outputs": [],
   "source": [
    "emotionDetector = convModel(X_train.shape[1:])\n",
    "emotionDetector.compile(optimizer = \"Adam\", loss = \"binary_crossentropy\", metrics = ([\"accuracy\"]))"
   ]
  },
  {
   "cell_type": "code",
   "execution_count": 51,
   "metadata": {},
   "outputs": [
    {
     "name": "stdout",
     "output_type": "stream",
     "text": [
      "Epoch 1/50\n",
      "600/600 [==============================] - 26s 44ms/step - loss: 0.4154 - accuracy: 0.9733\n",
      "Epoch 2/50\n",
      "600/600 [==============================] - 27s 44ms/step - loss: 0.4077 - accuracy: 0.9683\n",
      "Epoch 3/50\n",
      "600/600 [==============================] - 26s 44ms/step - loss: 0.3950 - accuracy: 0.9767\n",
      "Epoch 4/50\n",
      "600/600 [==============================] - 26s 44ms/step - loss: 0.3839 - accuracy: 0.9800\n",
      "Epoch 5/50\n",
      "600/600 [==============================] - 27s 45ms/step - loss: 0.3745 - accuracy: 0.9817\n",
      "Epoch 6/50\n",
      "600/600 [==============================] - 26s 43ms/step - loss: 0.3644 - accuracy: 0.9883\n",
      "Epoch 7/50\n",
      "600/600 [==============================] - 27s 45ms/step - loss: 0.3576 - accuracy: 0.9867\n",
      "Epoch 8/50\n",
      "600/600 [==============================] - 27s 45ms/step - loss: 0.3599 - accuracy: 0.9800\n",
      "Epoch 9/50\n",
      "600/600 [==============================] - 26s 43ms/step - loss: 0.3457 - accuracy: 0.9833\n",
      "Epoch 10/50\n",
      "600/600 [==============================] - 27s 44ms/step - loss: 0.3440 - accuracy: 0.9850\n",
      "Epoch 11/50\n",
      "600/600 [==============================] - 26s 43ms/step - loss: 0.3310 - accuracy: 0.9917\n",
      "Epoch 12/50\n",
      "600/600 [==============================] - 26s 43ms/step - loss: 0.3263 - accuracy: 0.9917\n",
      "Epoch 13/50\n",
      "600/600 [==============================] - 27s 46ms/step - loss: 0.3135 - accuracy: 0.9967\n",
      "Epoch 14/50\n",
      "600/600 [==============================] - 28s 47ms/step - loss: 0.3078 - accuracy: 0.9950\n",
      "Epoch 15/50\n",
      "600/600 [==============================] - 27s 46ms/step - loss: 0.3015 - accuracy: 0.9967\n",
      "Epoch 16/50\n",
      "600/600 [==============================] - 28s 47ms/step - loss: 0.2956 - accuracy: 0.9983\n",
      "Epoch 17/50\n",
      "600/600 [==============================] - 28s 46ms/step - loss: 0.2970 - accuracy: 0.9900\n",
      "Epoch 18/50\n",
      "600/600 [==============================] - 27s 45ms/step - loss: 0.3019 - accuracy: 0.9883\n",
      "Epoch 19/50\n",
      "600/600 [==============================] - 26s 44ms/step - loss: 0.2984 - accuracy: 0.9867\n",
      "Epoch 20/50\n",
      "600/600 [==============================] - 26s 43ms/step - loss: 0.2906 - accuracy: 0.9867\n",
      "Epoch 21/50\n",
      "600/600 [==============================] - 26s 43ms/step - loss: 0.2826 - accuracy: 0.9900\n",
      "Epoch 22/50\n",
      "600/600 [==============================] - 26s 44ms/step - loss: 0.2733 - accuracy: 0.9950\n",
      "Epoch 23/50\n",
      "600/600 [==============================] - 27s 44ms/step - loss: 0.2680 - accuracy: 0.9967\n",
      "Epoch 24/50\n",
      "600/600 [==============================] - 27s 46ms/step - loss: 0.2594 - accuracy: 0.9983\n",
      "Epoch 25/50\n",
      "600/600 [==============================] - 28s 47ms/step - loss: 0.2543 - accuracy: 0.9983\n",
      "Epoch 26/50\n",
      "600/600 [==============================] - 28s 46ms/step - loss: 0.2503 - accuracy: 0.9983\n",
      "Epoch 27/50\n",
      "600/600 [==============================] - 27s 45ms/step - loss: 0.2462 - accuracy: 0.9983\n",
      "Epoch 28/50\n",
      "600/600 [==============================] - 27s 46ms/step - loss: 0.2422 - accuracy: 0.9983\n",
      "Epoch 29/50\n",
      "600/600 [==============================] - 27s 45ms/step - loss: 0.2384 - accuracy: 0.9983\n",
      "Epoch 30/50\n",
      "600/600 [==============================] - 27s 46ms/step - loss: 0.2347 - accuracy: 0.9983\n",
      "Epoch 31/50\n",
      "600/600 [==============================] - 27s 45ms/step - loss: 0.2310 - accuracy: 0.9983\n",
      "Epoch 32/50\n",
      "600/600 [==============================] - 26s 44ms/step - loss: 0.2275 - accuracy: 0.9983\n",
      "Epoch 33/50\n",
      "600/600 [==============================] - 27s 45ms/step - loss: 0.2240 - accuracy: 0.9983\n",
      "Epoch 34/50\n",
      "600/600 [==============================] - 29s 48ms/step - loss: 0.2206 - accuracy: 0.9983\n",
      "Epoch 35/50\n",
      "600/600 [==============================] - 27s 45ms/step - loss: 0.2172 - accuracy: 0.9983\n",
      "Epoch 36/50\n",
      "600/600 [==============================] - 27s 44ms/step - loss: 0.2140 - accuracy: 0.9983\n",
      "Epoch 37/50\n",
      "600/600 [==============================] - 27s 44ms/step - loss: 0.2108 - accuracy: 0.9983\n",
      "Epoch 38/50\n",
      "600/600 [==============================] - 26s 43ms/step - loss: 0.2077 - accuracy: 0.9983\n",
      "Epoch 39/50\n",
      "600/600 [==============================] - 26s 43ms/step - loss: 0.2046 - accuracy: 0.9983\n",
      "Epoch 40/50\n",
      "600/600 [==============================] - 26s 43ms/step - loss: 0.2017 - accuracy: 0.9983\n",
      "Epoch 41/50\n",
      "600/600 [==============================] - 26s 43ms/step - loss: 0.1987 - accuracy: 0.9983\n",
      "Epoch 42/50\n",
      "600/600 [==============================] - 26s 43ms/step - loss: 0.1958 - accuracy: 0.9983\n",
      "Epoch 43/50\n",
      "600/600 [==============================] - 26s 43ms/step - loss: 0.1929 - accuracy: 0.9983\n",
      "Epoch 44/50\n",
      "600/600 [==============================] - 26s 43ms/step - loss: 0.1902 - accuracy: 0.9983\n",
      "Epoch 45/50\n",
      "600/600 [==============================] - 26s 43ms/step - loss: 0.1875 - accuracy: 0.9983\n",
      "Epoch 46/50\n",
      "600/600 [==============================] - 26s 43ms/step - loss: 0.1848 - accuracy: 0.9983\n",
      "Epoch 47/50\n",
      "600/600 [==============================] - 27s 44ms/step - loss: 0.1822 - accuracy: 0.9983\n",
      "Epoch 48/50\n",
      "600/600 [==============================] - 27s 45ms/step - loss: 0.1796 - accuracy: 0.9983\n",
      "Epoch 49/50\n",
      "600/600 [==============================] - 26s 43ms/step - loss: 0.1771 - accuracy: 0.9983\n",
      "Epoch 50/50\n",
      "600/600 [==============================] - 26s 43ms/step - loss: 0.1746 - accuracy: 0.9983\n"
     ]
    },
    {
     "data": {
      "text/plain": [
       "<keras.callbacks.callbacks.History at 0x4e1641be48>"
      ]
     },
     "execution_count": 51,
     "metadata": {},
     "output_type": "execute_result"
    }
   ],
   "source": [
    "emotionDetector.fit(X_train, y_train, epochs = 50, batch_size = 16)"
   ]
  },
  {
   "cell_type": "code",
   "execution_count": 53,
   "metadata": {},
   "outputs": [
    {
     "name": "stdout",
     "output_type": "stream",
     "text": [
      "150/150 [==============================] - 2s 13ms/step\n",
      "Loss after training 50 epochs : 0.23011247158050538\n",
      "Accuracy of the model : 95.99999785423279%\n"
     ]
    }
   ],
   "source": [
    "Final_loss, Accuracy = emotionDetector.evaluate(X_test, y_test)\n",
    "print(f\"Loss after training 50 epochs : {Final_loss}\")\n",
    "print(f\"Accuracy of the model : {Accuracy*100}%\")"
   ]
  },
  {
   "cell_type": "code",
   "execution_count": 67,
   "metadata": {},
   "outputs": [
    {
     "name": "stdout",
     "output_type": "stream",
     "text": [
      "You are happy\n"
     ]
    },
    {
     "data": {
      "image/png": "[encoded data removed]",
      "text/plain": [
       "<Figure size 432x288 with 1 Axes>"
      ]
     },
     "metadata": {
      "needs_background": "light"
     },
     "output_type": "display_data"
    }
   ],
   "source": [
    "img_path = \"desktop/sammya.jpg\"\n",
    "img = image.load_img(img_path, target_size = (64, 64))\n",
    "imshow(img)\n",
    "x = image.img_to_array(img)\n",
    "x = np.expand_dims(x, axis = 0)\n",
    "x = preprocess_input(x)\n",
    "print(\"You are happy\" if emotionDetector.predict(x)>0.5 else \"You are sad\")"
   ]
  },
  {
   "cell_type": "code",
   "execution_count": 59,
   "metadata": {},
   "outputs": [
    {
     "name": "stdout",
     "output_type": "stream",
     "text": [
      "Model: \"convModel\"\n",
      "_________________________________________________________________\n",
      "Layer (type)                 Output Shape              Param #   \n",
      "=================================================================\n",
      "input_4 (InputLayer)         (None, 64, 64, 3)         0         \n",
      "_________________________________________________________________\n",
      "zero_padding2d_3 (ZeroPaddin (None, 70, 70, 3)         0         \n",
      "_________________________________________________________________\n",
      "conv0 (Conv2D)               (None, 64, 64, 32)        4736      \n",
      "_________________________________________________________________\n",
      "bn0 (BatchNormalization)     (None, 64, 64, 32)        128       \n",
      "_________________________________________________________________\n",
      "activation_9 (Activation)    (None, 64, 64, 32)        0         \n",
      "_________________________________________________________________\n",
      "MaxPool0 (MaxPooling2D)      (None, 32, 32, 32)        0         \n",
      "_________________________________________________________________\n",
      "conv1 (Conv2D)               (None, 26, 26, 32)        50208     \n",
      "_________________________________________________________________\n",
      "bn1 (BatchNormalization)     (None, 26, 26, 32)        128       \n",
      "_________________________________________________________________\n",
      "activation_10 (Activation)   (None, 26, 26, 32)        0         \n",
      "_________________________________________________________________\n",
      "MaxPool1 (MaxPooling2D)      (None, 13, 13, 32)        0         \n",
      "_________________________________________________________________\n",
      "conv2 (Conv2D)               (None, 11, 11, 32)        9248      \n",
      "_________________________________________________________________\n",
      "bn2 (BatchNormalization)     (None, 11, 11, 32)        128       \n",
      "_________________________________________________________________\n",
      "activation_11 (Activation)   (None, 11, 11, 32)        0         \n",
      "_________________________________________________________________\n",
      "averagePool0 (AveragePooling (None, 5, 5, 32)          0         \n",
      "_________________________________________________________________\n",
      "conv3 (Conv2D)               (None, 3, 3, 32)          9248      \n",
      "_________________________________________________________________\n",
      "bn3 (BatchNormalization)     (None, 3, 3, 32)          128       \n",
      "_________________________________________________________________\n",
      "activation_12 (Activation)   (None, 3, 3, 32)          0         \n",
      "_________________________________________________________________\n",
      "maxpool3 (MaxPooling2D)      (None, 1, 1, 32)          0         \n",
      "_________________________________________________________________\n",
      "fc0 (Dense)                  (None, 1, 1, 1)           33        \n",
      "_________________________________________________________________\n",
      "flatten_4 (Flatten)          (None, 1)                 0         \n",
      "_________________________________________________________________\n",
      "fc1 (Dense)                  (None, 1)                 2         \n",
      "=================================================================\n",
      "Total params: 73,987\n",
      "Trainable params: 73,731\n",
      "Non-trainable params: 256\n",
      "_________________________________________________________________\n"
     ]
    }
   ],
   "source": [
    "emotionDetector.summary()"
   ]
  },
  {
   "cell_type": "markdown",
   "metadata": {},
   "source": [
    "## Conclusion:\n",
    "This model is trained for 50 epochs with a 6 layer deep(4 Convolutional Layers and 2 Fully Connected Layers) convolutional Neural Network.     \n",
    "Training Accuracy achieved : 99.83%  \n",
    "Testing Accuracy achieved : 95.99% "
   ]
  }
 ],
 "metadata": {
  "kernelspec": {
   "display_name": "Python 3",
   "language": "python",
   "name": "python3"
  },
  "language_info": {
   "codemirror_mode": {
    "name": "ipython",
    "version": 3
   },
   "file_extension": ".py",
   "mimetype": "text/x-python",
   "name": "python",
   "nbconvert_exporter": "python",
   "pygments_lexer": "ipython3",
   "version": "3.7.6"
  }
 },
 "nbformat": 4,
 "nbformat_minor": 4
}
